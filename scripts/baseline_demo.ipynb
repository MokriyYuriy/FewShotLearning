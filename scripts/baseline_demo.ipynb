{
 "cells": [
  {
   "cell_type": "code",
   "execution_count": 1,
   "metadata": {},
   "outputs": [
    {
     "data": {
      "text/html": [
       "<style>.container { width:100% !important; }</style>"
      ],
      "text/plain": [
       "<IPython.core.display.HTML object>"
      ]
     },
     "metadata": {},
     "output_type": "display_data"
    }
   ],
   "source": [
    "from IPython.core.display import display, HTML\n",
    "display(HTML(\"<style>.container { width:100% !important; }</style>\"))"
   ]
  },
  {
   "cell_type": "code",
   "execution_count": 2,
   "metadata": {},
   "outputs": [],
   "source": [
    "%load_ext autoreload\n",
    "%autoreload 2"
   ]
  },
  {
   "cell_type": "code",
   "execution_count": 3,
   "metadata": {},
   "outputs": [
    {
     "name": "stdout",
     "output_type": "stream",
     "text": [
      "Tue May  7 13:24:49 2019       \r\n",
      "+-----------------------------------------------------------------------------+\r\n",
      "| NVIDIA-SMI 418.40.04    Driver Version: 418.40.04    CUDA Version: 10.1     |\r\n",
      "|-------------------------------+----------------------+----------------------+\r\n",
      "| GPU  Name        Persistence-M| Bus-Id        Disp.A | Volatile Uncorr. ECC |\r\n",
      "| Fan  Temp  Perf  Pwr:Usage/Cap|         Memory-Usage | GPU-Util  Compute M. |\r\n",
      "|===============================+======================+======================|\r\n",
      "|   0  Tesla K80           Off  | 00005E6A:00:00.0 Off |                    0 |\r\n",
      "| N/A   46C    P0    57W / 149W |      0MiB / 11441MiB |      1%      Default |\r\n",
      "+-------------------------------+----------------------+----------------------+\r\n",
      "                                                                               \r\n",
      "+-----------------------------------------------------------------------------+\r\n",
      "| Processes:                                                       GPU Memory |\r\n",
      "|  GPU       PID   Type   Process name                             Usage      |\r\n",
      "|=============================================================================|\r\n",
      "|  No running processes found                                                 |\r\n",
      "+-----------------------------------------------------------------------------+\r\n"
     ]
    }
   ],
   "source": [
    "!nvidia-smi"
   ]
  },
  {
   "cell_type": "code",
   "execution_count": 4,
   "metadata": {},
   "outputs": [],
   "source": [
    "import os\n",
    "os.environ['CUDA_VISIBLE_DEVICES'] = '0'\n",
    "os.environ['TF_CUDNN_USE_AUTOTUNE'] = '0'"
   ]
  },
  {
   "cell_type": "code",
   "execution_count": 5,
   "metadata": {},
   "outputs": [],
   "source": [
    "import tensorflow as tf\n",
    "config = tf.ConfigProto(intra_op_parallelism_threads=0, \n",
    "                        inter_op_parallelism_threads=0, \n",
    "                        allow_soft_placement=True)\n",
    "session = tf.Session(config=config)\n",
    "tf.keras.backend.set_session(session)"
   ]
  },
  {
   "cell_type": "code",
   "execution_count": 6,
   "metadata": {},
   "outputs": [],
   "source": [
    "import random\n",
    "import numpy as np\n",
    "\n",
    "seed = 11\n",
    "\n",
    "np.random.seed(seed)\n",
    "random.seed(seed)\n",
    "tf.random.set_random_seed(seed)"
   ]
  },
  {
   "cell_type": "code",
   "execution_count": 15,
   "metadata": {},
   "outputs": [],
   "source": [
    "from fewshot.data_provider.dataset import Dataset\n",
    "from fewshot.backbones import ConvNet\n",
    "\n",
    "from fewshot.algorithms.backbone_train import simple_cosine_layer_cross_entropy_train\n",
    "from fewshot.algorithms.fewshot_test import baseline_fewshot_test\n",
    "from fewshot.algorithms.fewshot_models import BaselineFewShotModel\n",
    "\n",
    "import tqdm\n",
    "from scipy import stats"
   ]
  },
  {
   "cell_type": "markdown",
   "metadata": {},
   "source": [
    "## Initialize"
   ]
  },
  {
   "cell_type": "markdown",
   "metadata": {},
   "source": [
    "Data parameters:"
   ]
  },
  {
   "cell_type": "code",
   "execution_count": 16,
   "metadata": {},
   "outputs": [],
   "source": [
    "img_width = 84\n",
    "img_height = 84\n",
    "img_depth = 3"
   ]
  },
  {
   "cell_type": "code",
   "execution_count": 17,
   "metadata": {},
   "outputs": [],
   "source": [
    "dataset_root = \"../../../data/\"\n",
    "dataset_name = 'cub'\n",
    "csv_name = \"data_84x84.csv\"\n",
    "\n",
    "base_num_classes = 100\n",
    "novel_num_classes = 50\n",
    "val_num_classes = 50  # not used in baseline algo"
   ]
  },
  {
   "cell_type": "markdown",
   "metadata": {},
   "source": [
    "Backbone training parameters:"
   ]
  },
  {
   "cell_type": "code",
   "execution_count": 18,
   "metadata": {},
   "outputs": [],
   "source": [
    "# backbone training\n",
    "backbone_training_batch_size = 16\n",
    "backbone_training_epochs = 20\n",
    "\n",
    "backbone_generator_args={\n",
    "    \"flip_prob\": 0.5,\n",
    "    \"color_jitter_prob\": 1.0,\n",
    "    \"hue_range\": (0.6, 1.4),\n",
    "    \"saturation_range\": (0.6, 1.4),\n",
    "    \"value_range\": (0.6, 1.4)\n",
    "}"
   ]
  },
  {
   "cell_type": "markdown",
   "metadata": {},
   "source": [
    "Few-shot training parameters:"
   ]
  },
  {
   "cell_type": "code",
   "execution_count": 19,
   "metadata": {},
   "outputs": [],
   "source": [
    "# fewshot training and testing\n",
    "n_way = 5\n",
    "k_shot = 5\n",
    "fewshot_batch_size = 4\n",
    "support_epochs = 100\n",
    "query_size = 16\n",
    "\n",
    "support_generator_args={\n",
    "    \"flip_prob\": 0.5,\n",
    "    \"color_jitter_prob\": 1.0,\n",
    "    \"hue_range\": (0.6, 1.4),\n",
    "    \"saturation_range\": (0.6, 1.4),\n",
    "    \"value_range\": (0.6, 1.4)\n",
    "}\n",
    "\n",
    "n_episodes = 10"
   ]
  },
  {
   "cell_type": "code",
   "execution_count": 20,
   "metadata": {},
   "outputs": [],
   "source": [
    "checkpoint_dir = '../../../data/few-models/fewshot/checkpoints'\n",
    "log_dir = '../../../data/few-models/fewshot/logs'"
   ]
  },
  {
   "cell_type": "markdown",
   "metadata": {},
   "source": [
    "## Data"
   ]
  },
  {
   "cell_type": "markdown",
   "metadata": {},
   "source": [
    "Create dataset:"
   ]
  },
  {
   "cell_type": "code",
   "execution_count": 21,
   "metadata": {},
   "outputs": [],
   "source": [
    "dataset_dir = os.path.join(dataset_root, dataset_name)\n",
    "dataset = Dataset(dataset_dir=dataset_dir, \n",
    "                  csv_name=csv_name, \n",
    "                  image_size=(img_width, img_height))"
   ]
  },
  {
   "cell_type": "markdown",
   "metadata": {},
   "source": [
    "Create backbone dataset:"
   ]
  },
  {
   "cell_type": "code",
   "execution_count": 22,
   "metadata": {},
   "outputs": [
    {
     "name": "stdout",
     "output_type": "stream",
     "text": [
      "Split by classes with train size = 100 (seed = 11)\n",
      "Train classes: 100\n",
      "Test classes: 100\n",
      "Train data: 3043 samples\n",
      "Test data:  2990 samples\n"
     ]
    },
    {
     "name": "stderr",
     "output_type": "stream",
     "text": [
      "/mnt/disk/venv/dpy3/lib/python3.5/site-packages/sklearn/model_selection/_split.py:2179: FutureWarning: From version 0.21, test_size will always complement train_size unless both are specified.\n",
      "  FutureWarning)\n"
     ]
    }
   ],
   "source": [
    "backbone_dataset, val_fewshot_dataset = dataset.split_by_classes(train_size=base_num_classes,\n",
    "                                                                 random_state=seed)"
   ]
  },
  {
   "cell_type": "markdown",
   "metadata": {},
   "source": [
    "Create few-shot dataset:"
   ]
  },
  {
   "cell_type": "code",
   "execution_count": 23,
   "metadata": {},
   "outputs": [
    {
     "name": "stdout",
     "output_type": "stream",
     "text": [
      "Split by classes with train size = 50 (seed = 11)\n",
      "Train classes: 50\n",
      "Test classes: 50\n",
      "Train data: 1510 samples\n",
      "Test data:  1480 samples\n"
     ]
    }
   ],
   "source": [
    "val_dataset, fewshot_dataset = val_fewshot_dataset.split_by_classes(train_size=val_num_classes,\n",
    "                                                                    random_state=seed)"
   ]
  },
  {
   "cell_type": "markdown",
   "metadata": {},
   "source": [
    "## Backbone"
   ]
  },
  {
   "cell_type": "code",
   "execution_count": 24,
   "metadata": {},
   "outputs": [],
   "source": [
    "model_name = 'baseline'"
   ]
  },
  {
   "cell_type": "markdown",
   "metadata": {},
   "source": [
    "Create model:"
   ]
  },
  {
   "cell_type": "code",
   "execution_count": 25,
   "metadata": {},
   "outputs": [
    {
     "name": "stdout",
     "output_type": "stream",
     "text": [
      "WARNING:tensorflow:From /mnt/disk/venv/dpy3/lib/python3.5/site-packages/tensorflow/python/ops/resource_variable_ops.py:435: colocate_with (from tensorflow.python.framework.ops) is deprecated and will be removed in a future version.\n",
      "Instructions for updating:\n",
      "Colocations handled automatically by placer.\n"
     ]
    }
   ],
   "source": [
    "backbone = ConvNet(input_size=(img_width, img_height, img_depth))\n",
    "backbone.set_trainable(True)"
   ]
  },
  {
   "cell_type": "markdown",
   "metadata": {},
   "source": [
    "Train model:"
   ]
  },
  {
   "cell_type": "code",
   "execution_count": 26,
   "metadata": {},
   "outputs": [],
   "source": [
    "backbone_optimizer = tf.keras.optimizers.Adam(lr=1e-3)"
   ]
  },
  {
   "cell_type": "code",
   "execution_count": 27,
   "metadata": {},
   "outputs": [
    {
     "name": "stdout",
     "output_type": "stream",
     "text": [
      "WARNING:tensorflow:From /mnt/disk/venv/dpy3/lib/python3.5/site-packages/tensorflow/python/ops/math_ops.py:3066: to_int32 (from tensorflow.python.ops.math_ops) is deprecated and will be removed in a future version.\n",
      "Instructions for updating:\n",
      "Use tf.cast instead.\n",
      "Epoch 1/20\n",
      " - 7s - loss: 4.5677 - acc: 0.0194\n",
      "Epoch 2/20\n",
      " - 6s - loss: 4.4756 - acc: 0.0332\n",
      "Epoch 3/20\n",
      " - 6s - loss: 4.4160 - acc: 0.0483\n",
      "Epoch 3/20\n",
      "Epoch 4/20\n",
      "Epoch 4/20\n",
      " - 6s - loss: 4.3874 - acc: 0.0536\n",
      "Epoch 5/20\n",
      " - 6s - loss: 4.3653 - acc: 0.0555\n",
      "Epoch 6/20\n",
      " - 6s - loss: 4.3477 - acc: 0.0657\n",
      "Epoch 7/20\n",
      "Epoch 7/20 - 6s - loss: 4.3300 - acc: 0.0651\n",
      "Epoch 8/20\n",
      " - 6s - loss: 4.3253 - acc: 0.0651\n",
      "Epoch 9/20\n",
      "\n",
      " - 6s - loss: 4.3220 - acc: 0.0710\n",
      "Epoch 10/20\n",
      "Epoch 10/20 - 6s - loss: 4.3091 - acc: 0.0779\n",
      "Epoch 11/20\n",
      " - 6s - loss: 4.3073 - acc: 0.0762\n",
      "Epoch 12/20\n",
      " - 6s - loss: 4.3019 - acc: 0.0766\n",
      "Epoch 12/20\n",
      "Epoch 13/20\n",
      "Epoch 13/20\n",
      " - 6s - loss: 4.2974 - acc: 0.0799\n",
      "Epoch 14/20\n",
      " - 6s - loss: 4.2983 - acc: 0.0808\n",
      "Epoch 15/20\n",
      " - 6s - loss: 4.2956 - acc: 0.0812\n",
      "Epoch 16/20\n",
      " - 6s - loss: 4.2889 - acc: 0.0848\n",
      "Epoch 17/20\n",
      " - 6s - loss: 4.2866 - acc: 0.0868\n",
      "Epoch 18/20\n",
      " - 6s - loss: 4.2838 - acc: 0.0812\n",
      "Epoch 19/20\n",
      " - 6s - loss: 4.2816 - acc: 0.0871\n",
      "Epoch 20/20\n",
      " - 6s - loss: 4.2760 - acc: 0.0884\n"
     ]
    },
    {
     "data": {
      "text/plain": [
       "<fewshot.backbones.convnet.ConvNet at 0x7fcf3d18cd68>"
      ]
     },
     "execution_count": 27,
     "metadata": {},
     "output_type": "execute_result"
    }
   ],
   "source": [
    "simple_cosine_layer_cross_entropy_train(\n",
    "    backbone,\n",
    "    backbone_dataset.get_batch_generator(batch_size=backbone_training_batch_size,\n",
    "                                         shuffle=True,\n",
    "                                         generator_args=backbone_generator_args),\n",
    "    epochs=backbone_training_epochs,\n",
    "    optimizer=backbone_optimizer,\n",
    "    model_name=model_name,\n",
    "    checkpoint_dir=checkpoint_dir,\n",
    "    period=10,\n",
    "    tensorboard=True,\n",
    "    log_dir=log_dir,\n",
    "    use_multiprocessing=True,\n",
    "    workers=4,\n",
    "    verbose=2\n",
    ")"
   ]
  },
  {
   "cell_type": "markdown",
   "metadata": {},
   "source": [
    "## Few-shot"
   ]
  },
  {
   "cell_type": "code",
   "execution_count": 28,
   "metadata": {},
   "outputs": [],
   "source": [
    "episode_generator = fewshot_dataset.get_fewshot_generator(n_way=n_way, \n",
    "                                                          k_shot=k_shot, \n",
    "                                                          query_size=query_size,\n",
    "                                                          support_generator_args=support_generator_args)"
   ]
  },
  {
   "cell_type": "markdown",
   "metadata": {},
   "source": [
    "Train few-shot model:"
   ]
  },
  {
   "cell_type": "code",
   "execution_count": 29,
   "metadata": {},
   "outputs": [],
   "source": [
    "fewshot_optimizer = tf.keras.optimizers.Adam(lr=1e-3) "
   ]
  },
  {
   "cell_type": "code",
   "execution_count": 30,
   "metadata": {
    "scrolled": false
   },
   "outputs": [
    {
     "name": "stderr",
     "output_type": "stream",
     "text": [
      "  0%|          | 0/10 [00:00<?, ?it/s]/mnt/disk/venv/dpy3/lib/python3.5/site-packages/sklearn/model_selection/_split.py:2179: FutureWarning: From version 0.21, test_size will always complement train_size unless both are specified.\n",
      "  FutureWarning)\n",
      "Average acc: 42.00%: 100%|██████████| 10/10 [00:53<00:00,  5.45s/it]\n"
     ]
    }
   ],
   "source": [
    "fewshot_model = BaselineFewShotModel(backbone, n_way)\n",
    "accuracies = baseline_fewshot_test(model=fewshot_model,\n",
    "                                   generator=episode_generator, \n",
    "                                   optimizer=fewshot_optimizer,\n",
    "                                   batch_size=fewshot_batch_size,\n",
    "                                   support_epochs=support_epochs,\n",
    "                                   n_episodes=n_episodes,\n",
    "                                   model_name='baseline-fewshot',\n",
    "                                   tensorboard=True,\n",
    "                                   log_dir=log_dir,\n",
    "                                   period=10)"
   ]
  },
  {
   "cell_type": "markdown",
   "metadata": {},
   "source": [
    "## Report"
   ]
  },
  {
   "cell_type": "markdown",
   "metadata": {},
   "source": [
    "Calculate 95% confidence interval:"
   ]
  },
  {
   "cell_type": "code",
   "execution_count": 25,
   "metadata": {},
   "outputs": [
    {
     "name": "stdout",
     "output_type": "stream",
     "text": [
      "5-shot test metric: 46.0% +- 6.49%\n"
     ]
    }
   ],
   "source": [
    "acc_int = stats.t.interval(0.95, len(accuracies) - 1, loc=np.mean(accuracies), scale=stats.sem(accuracies))\n",
    "print(\"5-shot test metric: {}% +- {}%\".format(round(np.mean(accuracies) * 100, 2),\n",
    "                                              round((np.mean(acc_int) - acc_int[0]) * 100, 2)))"
   ]
  }
 ],
 "metadata": {
  "kernelspec": {
   "display_name": "Python 3",
   "language": "python",
   "name": "python3"
  },
  "language_info": {
   "codemirror_mode": {
    "name": "ipython",
    "version": 3
   },
   "file_extension": ".py",
   "mimetype": "text/x-python",
   "name": "python",
   "nbconvert_exporter": "python",
   "pygments_lexer": "ipython3",
   "version": "3.5.4"
  }
 },
 "nbformat": 4,
 "nbformat_minor": 2
}
