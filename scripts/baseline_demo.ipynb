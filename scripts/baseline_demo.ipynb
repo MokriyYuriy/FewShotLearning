{
 "cells": [
  {
   "cell_type": "code",
   "execution_count": 1,
   "metadata": {},
   "outputs": [
    {
     "data": {
      "text/html": [
       "<style>.container { width:100% !important; }</style>"
      ],
      "text/plain": [
       "<IPython.core.display.HTML object>"
      ]
     },
     "metadata": {},
     "output_type": "display_data"
    }
   ],
   "source": [
    "from IPython.core.display import display, HTML\n",
    "display(HTML(\"<style>.container { width:100% !important; }</style>\"))"
   ]
  },
  {
   "cell_type": "code",
   "execution_count": 2,
   "metadata": {},
   "outputs": [],
   "source": [
    "%load_ext autoreload\n",
    "%autoreload 2"
   ]
  },
  {
   "cell_type": "code",
   "execution_count": 3,
   "metadata": {},
   "outputs": [
    {
     "name": "stdout",
     "output_type": "stream",
     "text": [
      "Thu May  9 10:57:09 2019       \r\n",
      "+-----------------------------------------------------------------------------+\r\n",
      "| NVIDIA-SMI 418.40.04    Driver Version: 418.40.04    CUDA Version: 10.1     |\r\n",
      "|-------------------------------+----------------------+----------------------+\r\n",
      "| GPU  Name        Persistence-M| Bus-Id        Disp.A | Volatile Uncorr. ECC |\r\n",
      "| Fan  Temp  Perf  Pwr:Usage/Cap|         Memory-Usage | GPU-Util  Compute M. |\r\n",
      "|===============================+======================+======================|\r\n",
      "|   0  Tesla K80           Off  | 00005E6A:00:00.0 Off |                    0 |\r\n",
      "| N/A   81C    P0   132W / 149W |   6225MiB / 11441MiB |     84%      Default |\r\n",
      "+-------------------------------+----------------------+----------------------+\r\n",
      "                                                                               \r\n",
      "+-----------------------------------------------------------------------------+\r\n",
      "| Processes:                                                       GPU Memory |\r\n",
      "|  GPU       PID   Type   Process name                             Usage      |\r\n",
      "|=============================================================================|\r\n",
      "|    0     18912      C   python                                      1918MiB |\r\n",
      "|    0     28621      C   python                                      2376MiB |\r\n",
      "|    0     32524      C   python                                      1918MiB |\r\n",
      "+-----------------------------------------------------------------------------+\r\n"
     ]
    }
   ],
   "source": [
    "!nvidia-smi"
   ]
  },
  {
   "cell_type": "code",
   "execution_count": 4,
   "metadata": {},
   "outputs": [],
   "source": [
    "import os\n",
    "os.environ['CUDA_VISIBLE_DEVICES'] = '0'\n",
    "os.environ['TF_CUDNN_USE_AUTOTUNE'] = '0'"
   ]
  },
  {
   "cell_type": "code",
   "execution_count": 5,
   "metadata": {},
   "outputs": [],
   "source": [
    "import tensorflow as tf\n",
    "config = tf.ConfigProto(intra_op_parallelism_threads=0, \n",
    "                        inter_op_parallelism_threads=0,\n",
    "                        gpu_options = tf.GPUOptions(per_process_gpu_memory_fraction=0.15),\n",
    "                        allow_soft_placement=True)\n",
    "session = tf.Session(config=config)\n",
    "tf.keras.backend.set_session(session)"
   ]
  },
  {
   "cell_type": "code",
   "execution_count": 6,
   "metadata": {},
   "outputs": [],
   "source": [
    "import random\n",
    "import numpy as np\n",
    "\n",
    "seed = 11\n",
    "\n",
    "np.random.seed(seed)\n",
    "random.seed(seed)\n",
    "tf.random.set_random_seed(seed)"
   ]
  },
  {
   "cell_type": "code",
   "execution_count": 7,
   "metadata": {},
   "outputs": [],
   "source": [
    "from fewshot.data_provider.dataset import Dataset\n",
    "from fewshot.backbones import ConvNet\n",
    "\n",
    "from fewshot.algorithms.backbone_train import (\n",
    "    simple_one_layer_cross_entropy_train,\n",
    "    simple_cosine_layer_cross_entropy_train\n",
    ")\n",
    "from fewshot.algorithms.fewshot_test import baseline_fewshot_test\n",
    "from fewshot.algorithms.fewshot_models import BaselineFewShotModel\n",
    "\n",
    "import tqdm\n",
    "from scipy import stats"
   ]
  },
  {
   "cell_type": "markdown",
   "metadata": {},
   "source": [
    "## Initialize"
   ]
  },
  {
   "cell_type": "markdown",
   "metadata": {},
   "source": [
    "Data parameters:"
   ]
  },
  {
   "cell_type": "raw",
   "metadata": {},
   "source": [
    "dataset_root = \"../../../data/\"\n",
    "dataset_name = 'mini_imagenet'\n",
    "csv_name = \"data.csv\"\n",
    "\n",
    "img_width = 84\n",
    "img_height = 84\n",
    "img_depth = 3\n",
    "\n",
    "base_num_classes = 64\n",
    "novel_num_classes = 20\n",
    "val_num_classes = 16  # not used in baseline algo"
   ]
  },
  {
   "cell_type": "markdown",
   "metadata": {},
   "source": [
    "Backbone params"
   ]
  },
  {
   "cell_type": "raw",
   "metadata": {},
   "source": [
    "# backbone training\n",
    "backbone_training_batch_size = 16\n",
    "backbone_training_epochs = 400\n",
    "\n",
    "backbone_generator_args={\n",
    "    \"flip_prob\": 0.5,\n",
    "    \"color_jitter_prob\": 1.0,\n",
    "    \"hue_range\": (0.6, 1.4),\n",
    "    \"saturation_range\": (0.6, 1.4),\n",
    "    \"value_range\": (0.6, 1.4),\n",
    "    \"contrast_range\": (0.6, 1.4),\n",
    "    \"crop_scale\": (0.08, 1.0),\n",
    "    \"crop_ratio\": (0.75, 1.3333333333333333),\n",
    "    \"crop_size\": (img_width, img_height)  # think about order (w, h) or (h, w)\n",
    "}"
   ]
  },
  {
   "cell_type": "markdown",
   "metadata": {},
   "source": [
    "Few-shot training parameters:"
   ]
  },
  {
   "cell_type": "code",
   "execution_count": 10,
   "metadata": {},
   "outputs": [],
   "source": [
    "# fewshot training and testing\n",
    "n_way = 5\n",
    "k_shot = 5\n",
    "fewshot_batch_size = 4\n",
    "support_epochs = 100\n",
    "query_size = 16\n",
    "\n",
    "support_generator_args={\n",
    "    \"size\": (int(img_width * 1.15), int(img_height * 1.15)),\n",
    "    \"center\": True,  # for center cropping,\n",
    "    \"crop_size\": (img_width, img_height),\n",
    "}\n",
    "\n",
    "query_generator_args={\n",
    "    \"size\": (int(img_width * 1.15), int(img_height * 1.15)),\n",
    "    \"center\": True,  # for center cropping,\n",
    "    \"crop_size\": (img_width, img_height),\n",
    "}\n",
    "\n",
    "n_episodes = 30"
   ]
  },
  {
   "cell_type": "code",
   "execution_count": 13,
   "metadata": {},
   "outputs": [],
   "source": [
    "checkpoint_dir = '../../../data/few-models/mini_imagenet/checkpoints'\n",
    "log_dir = '../../../data/few-models/mini_imagenet/logs'"
   ]
  },
  {
   "cell_type": "markdown",
   "metadata": {},
   "source": [
    "## Data"
   ]
  },
  {
   "cell_type": "markdown",
   "metadata": {},
   "source": [
    "Create dataset:"
   ]
  },
  {
   "cell_type": "code",
   "execution_count": 14,
   "metadata": {},
   "outputs": [],
   "source": [
    "dataset_dir = os.path.join(dataset_root, dataset_name)\n",
    "dataset = Dataset(dataset_dir=dataset_dir, \n",
    "                  csv_name=csv_name, \n",
    "                  image_size=(img_width, img_height))"
   ]
  },
  {
   "cell_type": "markdown",
   "metadata": {},
   "source": [
    "Create backbone dataset:"
   ]
  },
  {
   "cell_type": "code",
   "execution_count": 15,
   "metadata": {},
   "outputs": [
    {
     "name": "stdout",
     "output_type": "stream",
     "text": [
      "Split by classes with train size = 4112 (seed = 11)\n",
      "Train classes: 4112\n",
      "Test classes: 2380\n",
      "Train data: 82240 samples\n",
      "Test data:  47600 samples\n"
     ]
    },
    {
     "name": "stderr",
     "output_type": "stream",
     "text": [
      "/mnt/disk/venv/dpy3/lib/python3.5/site-packages/sklearn/model_selection/_split.py:2179: FutureWarning: From version 0.21, test_size will always complement train_size unless both are specified.\n",
      "  FutureWarning)\n"
     ]
    }
   ],
   "source": [
    "backbone_dataset, val_fewshot_dataset = dataset.split_by_classes(train_size=base_num_classes,\n",
    "                                                                 random_state=seed)"
   ]
  },
  {
   "cell_type": "markdown",
   "metadata": {},
   "source": [
    "Create few-shot dataset:"
   ]
  },
  {
   "cell_type": "code",
   "execution_count": 16,
   "metadata": {},
   "outputs": [
    {
     "name": "stdout",
     "output_type": "stream",
     "text": [
      "Split by classes with train size = 688 (seed = 11)\n",
      "Train classes: 688\n",
      "Test classes: 1692\n",
      "Train data: 13760 samples\n",
      "Test data:  33840 samples\n"
     ]
    }
   ],
   "source": [
    "val_dataset, fewshot_dataset = val_fewshot_dataset.split_by_classes(train_size=val_num_classes,\n",
    "                                                                    random_state=seed)"
   ]
  },
  {
   "cell_type": "markdown",
   "metadata": {},
   "source": [
    "## Backbone"
   ]
  },
  {
   "cell_type": "code",
   "execution_count": 17,
   "metadata": {},
   "outputs": [],
   "source": [
    "model_name = 'baseline'"
   ]
  },
  {
   "cell_type": "markdown",
   "metadata": {},
   "source": [
    "Create model:"
   ]
  },
  {
   "cell_type": "code",
   "execution_count": 18,
   "metadata": {},
   "outputs": [
    {
     "name": "stdout",
     "output_type": "stream",
     "text": [
      "WARNING:tensorflow:From /mnt/disk/venv/dpy3/lib/python3.5/site-packages/tensorflow/python/ops/resource_variable_ops.py:435: colocate_with (from tensorflow.python.framework.ops) is deprecated and will be removed in a future version.\n",
      "Instructions for updating:\n",
      "Colocations handled automatically by placer.\n"
     ]
    }
   ],
   "source": [
    "backbone = ConvNet(input_size=(img_width, img_height, img_depth))"
   ]
  },
  {
   "cell_type": "markdown",
   "metadata": {},
   "source": [
    "Train model:"
   ]
  },
  {
   "cell_type": "code",
   "execution_count": 19,
   "metadata": {},
   "outputs": [],
   "source": [
    "backbone.set_trainable(True)"
   ]
  },
  {
   "cell_type": "code",
   "execution_count": 20,
   "metadata": {},
   "outputs": [],
   "source": [
    "backbone_optimizer = tf.keras.optimizers.Adam(lr=1e-3)"
   ]
  },
  {
   "cell_type": "code",
   "execution_count": null,
   "metadata": {},
   "outputs": [],
   "source": [
    "simple_one_layer_cross_entropy_train(\n",
    "    backbone,\n",
    "    backbone_dataset.get_batch_generator(batch_size=backbone_training_batch_size,\n",
    "                                         shuffle=True,\n",
    "                                         generator_args=backbone_generator_args),\n",
    "    epochs=backbone_training_epochs,\n",
    "    optimizer=backbone_optimizer,\n",
    "    model_name=model_name,\n",
    "    checkpoint_dir=checkpoint_dir,\n",
    "    period=5,\n",
    "    tensorboard=True,\n",
    "    log_dir=log_dir,\n",
    "    use_multiprocessing=True,\n",
    "    workers=4,\n",
    "    verbose=2\n",
    ")"
   ]
  },
  {
   "cell_type": "markdown",
   "metadata": {},
   "source": [
    "## Few-shot"
   ]
  },
  {
   "cell_type": "code",
   "execution_count": 22,
   "metadata": {},
   "outputs": [],
   "source": [
    "episode_generator = fewshot_dataset.get_fewshot_generator(n_way=n_way, \n",
    "                                                          k_shot=1, \n",
    "                                                          query_size=query_size,\n",
    "                                                          support_generator_args=support_generator_args,\n",
    "                                                          query_generator_args=query_generator_args)"
   ]
  },
  {
   "cell_type": "markdown",
   "metadata": {},
   "source": [
    "Train few-shot model:"
   ]
  },
  {
   "cell_type": "code",
   "execution_count": 23,
   "metadata": {},
   "outputs": [],
   "source": [
    "fewshot_optimizer = tf.keras.optimizers.Adam(lr=1e-3) "
   ]
  },
  {
   "cell_type": "code",
   "execution_count": 24,
   "metadata": {},
   "outputs": [
    {
     "name": "stderr",
     "output_type": "stream",
     "text": [
      "Average acc: 90.62%: 100%|██████████| 30/30 [03:40<00:00,  8.75s/it]\n"
     ]
    }
   ],
   "source": [
    "fewshot_model = BaselineFewShotModel(backbone, n_way, with_cosine=True)\n",
    "accuracies = baseline_fewshot_test(model=fewshot_model,\n",
    "                                   generator=episode_generator, \n",
    "                                   optimizer=fewshot_optimizer,\n",
    "                                   batch_size=fewshot_batch_size,\n",
    "                                   support_epochs=support_epochs,\n",
    "                                   n_episodes=n_episodes,\n",
    "                                   model_name='baseline-fewshot',\n",
    "                                   tensorboard=True,\n",
    "                                   log_dir=log_dir,\n",
    "                                   period=10)"
   ]
  },
  {
   "cell_type": "markdown",
   "metadata": {},
   "source": [
    "# Report"
   ]
  },
  {
   "cell_type": "markdown",
   "metadata": {},
   "source": [
    "Calculate 95% confidence interval:"
   ]
  },
  {
   "cell_type": "code",
   "execution_count": 25,
   "metadata": {},
   "outputs": [
    {
     "name": "stdout",
     "output_type": "stream",
     "text": [
      "5-way 5-shot metric: 90.62% +- 3.32%\n"
     ]
    }
   ],
   "source": [
    "mean_accuracy = np.mean(accuracies)\n",
    "confidence_interval = stats.t.interval(0.95, len(accuracies) - 1, loc=mean_accuracy, scale=stats.sem(accuracies))\n",
    "\n",
    "print(\"{}-way {}-shot metric: {}% +- {}%\".format(\n",
    "    n_way, k_shot,\n",
    "    round(mean_accuracy * 100, 2),\n",
    "    round((confidence_interval[1] - confidence_interval[0]) / 2 * 100, 2))\n",
    ")"
   ]
  }
 ],
 "metadata": {
  "kernelspec": {
   "display_name": "Python 3",
   "language": "python",
   "name": "python3"
  },
  "language_info": {
   "codemirror_mode": {
    "name": "ipython",
    "version": 3
   },
   "file_extension": ".py",
   "mimetype": "text/x-python",
   "name": "python",
   "nbconvert_exporter": "python",
   "pygments_lexer": "ipython3",
   "version": "3.5.4"
  }
 },
 "nbformat": 4,
 "nbformat_minor": 2
}
