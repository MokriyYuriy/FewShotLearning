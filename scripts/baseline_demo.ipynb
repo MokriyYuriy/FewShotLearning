{
 "cells": [
  {
   "cell_type": "code",
   "execution_count": 1,
   "metadata": {},
   "outputs": [
    {
     "data": {
      "text/html": [
       "<style>.container { width:100% !important; }</style>"
      ],
      "text/plain": [
       "<IPython.core.display.HTML object>"
      ]
     },
     "metadata": {},
     "output_type": "display_data"
    }
   ],
   "source": [
    "from IPython.core.display import display, HTML\n",
    "display(HTML(\"<style>.container { width:100% !important; }</style>\"))"
   ]
  },
  {
   "cell_type": "code",
   "execution_count": 2,
   "metadata": {},
   "outputs": [],
   "source": [
    "%load_ext autoreload\n",
    "%autoreload 2"
   ]
  },
  {
   "cell_type": "code",
   "execution_count": 3,
   "metadata": {},
   "outputs": [
    {
     "name": "stdout",
     "output_type": "stream",
     "text": [
      "Wed May  8 14:25:56 2019       \r\n",
      "+-----------------------------------------------------------------------------+\r\n",
      "| NVIDIA-SMI 418.40.04    Driver Version: 418.40.04    CUDA Version: 10.1     |\r\n",
      "|-------------------------------+----------------------+----------------------+\r\n",
      "| GPU  Name        Persistence-M| Bus-Id        Disp.A | Volatile Uncorr. ECC |\r\n",
      "| Fan  Temp  Perf  Pwr:Usage/Cap|         Memory-Usage | GPU-Util  Compute M. |\r\n",
      "|===============================+======================+======================|\r\n",
      "|   0  Tesla K80           Off  | 00005E6A:00:00.0 Off |                    0 |\r\n",
      "| N/A   74C    P0   133W / 149W |   6265MiB / 11441MiB |     83%      Default |\r\n",
      "+-------------------------------+----------------------+----------------------+\r\n",
      "                                                                               \r\n",
      "+-----------------------------------------------------------------------------+\r\n",
      "| Processes:                                                       GPU Memory |\r\n",
      "|  GPU       PID   Type   Process name                             Usage      |\r\n",
      "|=============================================================================|\r\n",
      "|    0     31208      C   python                                      6252MiB |\r\n",
      "+-----------------------------------------------------------------------------+\r\n"
     ]
    }
   ],
   "source": [
    "!nvidia-smi"
   ]
  },
  {
   "cell_type": "code",
   "execution_count": 4,
   "metadata": {},
   "outputs": [],
   "source": [
    "import os\n",
    "os.environ['CUDA_VISIBLE_DEVICES'] = '0'\n",
    "os.environ['TF_CUDNN_USE_AUTOTUNE'] = '0'"
   ]
  },
  {
   "cell_type": "code",
   "execution_count": 5,
   "metadata": {},
   "outputs": [],
   "source": [
    "import tensorflow as tf\n",
    "config = tf.ConfigProto(intra_op_parallelism_threads=0, \n",
    "                        inter_op_parallelism_threads=0,\n",
    "                        gpu_options = tf.GPUOptions(per_process_gpu_memory_fraction=0.15),\n",
    "                        allow_soft_placement=True)\n",
    "session = tf.Session(config=config)\n",
    "tf.keras.backend.set_session(session)"
   ]
  },
  {
   "cell_type": "code",
   "execution_count": 7,
   "metadata": {},
   "outputs": [],
   "source": [
    "import random\n",
    "import numpy as np\n",
    "\n",
    "seed = 11\n",
    "\n",
    "np.random.seed(seed)\n",
    "random.seed(seed)\n",
    "tf.random.set_random_seed(seed)"
   ]
  },
  {
   "cell_type": "code",
   "execution_count": 8,
   "metadata": {},
   "outputs": [],
   "source": [
    "from fewshot.data_provider.dataset import Dataset\n",
    "from fewshot.backbones import ConvNet\n",
    "\n",
    "from fewshot.algorithms.backbone_train import (\n",
    "    simple_one_layer_cross_entropy_train,\n",
    "    simple_cosine_layer_cross_entropy_train\n",
    ")\n",
    "from fewshot.algorithms.fewshot_test import baseline_fewshot_test\n",
    "from fewshot.algorithms.fewshot_models import BaselineFewShotModel\n",
    "\n",
    "import tqdm\n",
    "from scipy import stats"
   ]
  },
  {
   "cell_type": "markdown",
   "metadata": {},
   "source": [
    "## Initialize"
   ]
  },
  {
   "cell_type": "markdown",
   "metadata": {},
   "source": [
    "Data parameters:"
   ]
  },
  {
   "cell_type": "code",
   "execution_count": 9,
   "metadata": {},
   "outputs": [],
   "source": [
    "img_width = 84\n",
    "img_height = 84\n",
    "img_depth = 3"
   ]
  },
  {
   "cell_type": "code",
   "execution_count": 10,
   "metadata": {},
   "outputs": [],
   "source": [
    "dataset_root = \"../../../data/\"\n",
    "dataset_name = 'mini_imagenet'\n",
    "csv_name = \"data.csv\"\n",
    "\n",
    "base_num_classes = 64\n",
    "novel_num_classes = 20\n",
    "val_num_classes = 16  # not used in baseline algo"
   ]
  },
  {
   "cell_type": "markdown",
   "metadata": {},
   "source": [
    "Backbone training parameters:"
   ]
  },
  {
   "cell_type": "code",
   "execution_count": 11,
   "metadata": {},
   "outputs": [],
   "source": [
    "# backbone training\n",
    "backbone_training_batch_size = 16\n",
    "backbone_training_epochs = 21\n",
    "\n",
    "backbone_generator_args={\n",
    "    \"flip_prob\": 0.5,\n",
    "    \"color_jitter_prob\": 1.0,\n",
    "    \"hue_range\": (0.6, 1.4),\n",
    "    \"saturation_range\": (0.6, 1.4),\n",
    "    \"value_range\": (0.6, 1.4),\n",
    "    \"contrast_range\": (0.6, 1.4),\n",
    "    \"crop_scale\": (0.08, 1.0),\n",
    "    \"crop_ratio\": (0.75, 1.3333333333333333),\n",
    "    \"crop_size\": (img_width, img_height)  # think about order (w, h) or (h, w)\n",
    "}"
   ]
  },
  {
   "cell_type": "markdown",
   "metadata": {},
   "source": [
    "Few-shot training parameters:"
   ]
  },
  {
   "cell_type": "code",
   "execution_count": 22,
   "metadata": {},
   "outputs": [],
   "source": [
    "# fewshot training and testing\n",
    "n_way = 5\n",
    "k_shot = 5\n",
    "fewshot_batch_size = 4\n",
    "support_epochs = 100\n",
    "query_size = 16\n",
    "\n",
    "support_generator_args={\n",
    "    \"size\": (int(img_width * 1.15), int(img_height * 1.15)),\n",
    "    \"center\": True,  # for center cropping,\n",
    "    \"crop_size\": (img_width, img_height),\n",
    "}\n",
    "\n",
    "query_generator_args={\n",
    "    \"size\": (int(img_width * 1.15), int(img_height * 1.15)),\n",
    "    \"center\": True,  # for center cropping,\n",
    "    \"crop_size\": (img_width, img_height),\n",
    "}\n",
    "\n",
    "n_episodes = 50"
   ]
  },
  {
   "cell_type": "code",
   "execution_count": 13,
   "metadata": {},
   "outputs": [],
   "source": [
    "checkpoint_dir = '../../../data/few-models/mini_imagenet3/checkpoints'\n",
    "log_dir = '../../../data/few-models/mini_imagenet3/logs'"
   ]
  },
  {
   "cell_type": "markdown",
   "metadata": {},
   "source": [
    "## Data"
   ]
  },
  {
   "cell_type": "markdown",
   "metadata": {},
   "source": [
    "Create dataset:"
   ]
  },
  {
   "cell_type": "code",
   "execution_count": 14,
   "metadata": {},
   "outputs": [],
   "source": [
    "dataset_dir = os.path.join(dataset_root, dataset_name)\n",
    "dataset = Dataset(dataset_dir=dataset_dir, \n",
    "                  csv_name=csv_name, \n",
    "                  image_size=(img_width, img_height))"
   ]
  },
  {
   "cell_type": "markdown",
   "metadata": {},
   "source": [
    "Create backbone dataset:"
   ]
  },
  {
   "cell_type": "code",
   "execution_count": 15,
   "metadata": {},
   "outputs": [
    {
     "name": "stdout",
     "output_type": "stream",
     "text": [
      "Split by classes with train size = 64 (seed = 11)\n",
      "Train classes: 64\n",
      "Test classes: 36\n",
      "Train data: 38400 samples\n",
      "Test data:  21600 samples\n"
     ]
    },
    {
     "name": "stderr",
     "output_type": "stream",
     "text": [
      "/mnt/disk/venv/dpy3/lib/python3.5/site-packages/sklearn/model_selection/_split.py:2179: FutureWarning: From version 0.21, test_size will always complement train_size unless both are specified.\n",
      "  FutureWarning)\n"
     ]
    }
   ],
   "source": [
    "backbone_dataset, val_fewshot_dataset = dataset.split_by_classes(train_size=base_num_classes,\n",
    "                                                                 random_state=seed)"
   ]
  },
  {
   "cell_type": "markdown",
   "metadata": {},
   "source": [
    "Create few-shot dataset:"
   ]
  },
  {
   "cell_type": "code",
   "execution_count": 16,
   "metadata": {},
   "outputs": [
    {
     "name": "stdout",
     "output_type": "stream",
     "text": [
      "Split by classes with train size = 16 (seed = 11)\n",
      "Train classes: 16\n",
      "Test classes: 20\n",
      "Train data: 9600 samples\n",
      "Test data:  12000 samples\n"
     ]
    }
   ],
   "source": [
    "val_dataset, fewshot_dataset = val_fewshot_dataset.split_by_classes(train_size=val_num_classes,\n",
    "                                                                    random_state=seed)"
   ]
  },
  {
   "cell_type": "markdown",
   "metadata": {},
   "source": [
    "## Backbone"
   ]
  },
  {
   "cell_type": "code",
   "execution_count": 17,
   "metadata": {},
   "outputs": [],
   "source": [
    "model_name = 'baseline'"
   ]
  },
  {
   "cell_type": "markdown",
   "metadata": {},
   "source": [
    "Create model:"
   ]
  },
  {
   "cell_type": "code",
   "execution_count": 18,
   "metadata": {},
   "outputs": [
    {
     "name": "stdout",
     "output_type": "stream",
     "text": [
      "WARNING:tensorflow:From /mnt/disk/venv/dpy3/lib/python3.5/site-packages/tensorflow/python/ops/resource_variable_ops.py:435: colocate_with (from tensorflow.python.framework.ops) is deprecated and will be removed in a future version.\n",
      "Instructions for updating:\n",
      "Colocations handled automatically by placer.\n"
     ]
    }
   ],
   "source": [
    "backbone = ConvNet(input_size=(img_width, img_height, img_depth))"
   ]
  },
  {
   "cell_type": "markdown",
   "metadata": {},
   "source": [
    "Train model:"
   ]
  },
  {
   "cell_type": "code",
   "execution_count": 19,
   "metadata": {},
   "outputs": [],
   "source": [
    "backbone.set_trainable(True)"
   ]
  },
  {
   "cell_type": "code",
   "execution_count": 20,
   "metadata": {},
   "outputs": [],
   "source": [
    "backbone_optimizer = tf.keras.optimizers.Adam(lr=1e-3)"
   ]
  },
  {
   "cell_type": "code",
   "execution_count": 21,
   "metadata": {},
   "outputs": [
    {
     "name": "stdout",
     "output_type": "stream",
     "text": [
      "Epoch 1/21\n",
      " - 129s - loss: 2.3377 - acc: 0.3917\n",
      "Epoch 2/21\n",
      " - 129s - loss: 2.3469 - acc: 0.3898\n",
      "Epoch 3/21\n",
      "Epoch 3/21\n",
      " - 129s - loss: 2.3362 - acc: 0.3916\n",
      "Epoch 4/21\n",
      " - 128s - loss: 2.3328 - acc: 0.3952\n",
      "Epoch 5/21\n",
      " - 128s - loss: 2.3263 - acc: 0.3917\n",
      "Epoch 6/21\n",
      " - 129s - loss: 2.3266 - acc: 0.3953\n",
      "Epoch 7/21\n",
      " - 129s - loss: 2.3184 - acc: 0.3959\n",
      "Epoch 8/21\n",
      " - 129s - loss: 2.3179 - acc: 0.3933\n",
      "Epoch 9/21\n",
      " - 128s - loss: 2.3167 - acc: 0.3935\n",
      "Epoch 10/21\n",
      " - 129s - loss: 2.3021 - acc: 0.3967\n",
      "Epoch 11/21\n",
      " - 129s - loss: 2.3105 - acc: 0.3980\n",
      "Epoch 12/21\n",
      " - 129s - loss: 2.3083 - acc: 0.3996\n",
      "Epoch 13/21\n",
      "\n",
      " - 129s - loss: 2.3136 - acc: 0.3990\n",
      "Epoch 14/21\n",
      " - 102s - loss: 2.3139 - acc: 0.3950\n",
      "Epoch 15/21\n",
      " - 95s - loss: 2.3077 - acc: 0.3976\n",
      "Epoch 15/21\n",
      "Epoch 16/21\n",
      " - 95s - loss: 2.2954 - acc: 0.3991\n",
      "Epoch 17/21Epoch 16/21\n",
      "\n",
      " - 95s - loss: 2.3041 - acc: 0.3976\n",
      "\n",
      "Epoch 18/21\n",
      " - 99s - loss: 2.2959 - acc: 0.3983\n",
      "Epoch 19/21\n",
      "Epoch 18/21\n",
      " - 98s - loss: 2.3030 - acc: 0.3995\n",
      "Epoch 20/21\n",
      " - 110s - loss: 2.3014 - acc: 0.4015\n",
      "Epoch 21/21\n",
      " - 128s - loss: 2.2897 - acc: 0.4028\n"
     ]
    },
    {
     "data": {
      "text/plain": [
       "<fewshot.backbones.convnet.ConvNet at 0x7f0ae896b3c8>"
      ]
     },
     "execution_count": 21,
     "metadata": {},
     "output_type": "execute_result"
    }
   ],
   "source": [
    "simple_one_layer_cross_entropy_train(\n",
    "    backbone,\n",
    "    backbone_dataset.get_batch_generator(batch_size=backbone_training_batch_size,\n",
    "                                         shuffle=True,\n",
    "                                         generator_args=backbone_generator_args),\n",
    "    epochs=backbone_training_epochs,\n",
    "    optimizer=backbone_optimizer,\n",
    "    model_name=model_name,\n",
    "    checkpoint_dir=checkpoint_dir,\n",
    "    period=10,\n",
    "    tensorboard=True,\n",
    "    log_dir=log_dir,\n",
    "    use_multiprocessing=True,\n",
    "    workers=4,\n",
    "    verbose=2,\n",
    "    resume=\"{}/baseline.80.hdf5\".format(checkpoint_dir)\n",
    ")"
   ]
  },
  {
   "cell_type": "markdown",
   "metadata": {},
   "source": [
    "## Few-shot"
   ]
  },
  {
   "cell_type": "code",
   "execution_count": 23,
   "metadata": {},
   "outputs": [],
   "source": [
    "episode_generator = fewshot_dataset.get_fewshot_generator(n_way=n_way, \n",
    "                                                          k_shot=k_shot, \n",
    "                                                          query_size=query_size,\n",
    "                                                          support_generator_args=support_generator_args,\n",
    "                                                          query_generator_args=query_generator_args)"
   ]
  },
  {
   "cell_type": "markdown",
   "metadata": {},
   "source": [
    "Train few-shot model:"
   ]
  },
  {
   "cell_type": "code",
   "execution_count": 24,
   "metadata": {},
   "outputs": [],
   "source": [
    "fewshot_optimizer = tf.keras.optimizers.Adam(lr=1e-3) "
   ]
  },
  {
   "cell_type": "code",
   "execution_count": 25,
   "metadata": {},
   "outputs": [
    {
     "name": "stderr",
     "output_type": "stream",
     "text": [
      "\r",
      "  0%|          | 0/50 [00:00<?, ?it/s]"
     ]
    },
    {
     "name": "stdout",
     "output_type": "stream",
     "text": [
      "WARNING:tensorflow:From /mnt/disk/venv/dpy3/lib/python3.5/site-packages/tensorflow/python/ops/math_ops.py:3066: to_int32 (from tensorflow.python.ops.math_ops) is deprecated and will be removed in a future version.\n",
      "Instructions for updating:\n",
      "Use tf.cast instead.\n"
     ]
    },
    {
     "name": "stderr",
     "output_type": "stream",
     "text": [
      "Average acc: 54.65%: 100%|██████████| 50/50 [08:55<00:00, 13.37s/it]\n"
     ]
    }
   ],
   "source": [
    "fewshot_model = BaselineFewShotModel(backbone, n_way)\n",
    "accuracies = baseline_fewshot_test(model=fewshot_model,\n",
    "                                   generator=episode_generator, \n",
    "                                   optimizer=fewshot_optimizer,\n",
    "                                   batch_size=fewshot_batch_size,\n",
    "                                   support_epochs=support_epochs,\n",
    "                                   n_episodes=n_episodes,\n",
    "                                   model_name='baseline-fewshot',\n",
    "                                   tensorboard=True,\n",
    "                                   log_dir=log_dir,\n",
    "                                   period=10)"
   ]
  },
  {
   "cell_type": "markdown",
   "metadata": {},
   "source": [
    "## Report"
   ]
  },
  {
   "cell_type": "markdown",
   "metadata": {},
   "source": [
    "Calculate 95% confidence interval:"
   ]
  },
  {
   "cell_type": "code",
   "execution_count": 27,
   "metadata": {},
   "outputs": [
    {
     "name": "stdout",
     "output_type": "stream",
     "text": [
      "5-way 5-shot metric: 54.65% +- 2.67%\n"
     ]
    }
   ],
   "source": [
    "mean_accuracy = np.mean(accuracies)\n",
    "confidence_interval = stats.t.interval(0.95, len(accuracies) - 1, loc=mean_accuracy, scale=stats.sem(accuracies))\n",
    "\n",
    "print(\"{}-way {}-shot metric: {}% +- {}%\".format(\n",
    "    n_way, k_shot,\n",
    "    round(mean_accuracy * 100, 2),\n",
    "    round((confidence_interval[1] - confidence_interval[0]) / 2 * 100, 2))\n",
    ")"
   ]
  },
  {
   "cell_type": "raw",
   "metadata": {},
   "source": []
  }
 ],
 "metadata": {
  "kernelspec": {
   "display_name": "Python 3",
   "language": "python",
   "name": "python3"
  },
  "language_info": {
   "codemirror_mode": {
    "name": "ipython",
    "version": 3
   },
   "file_extension": ".py",
   "mimetype": "text/x-python",
   "name": "python",
   "nbconvert_exporter": "python",
   "pygments_lexer": "ipython3",
   "version": "3.5.4"
  }
 },
 "nbformat": 4,
 "nbformat_minor": 2
}
