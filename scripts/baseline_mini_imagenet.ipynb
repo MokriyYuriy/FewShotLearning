{
 "cells": [
  {
   "cell_type": "code",
   "execution_count": null,
   "metadata": {},
   "outputs": [],
   "source": [
    "from fewshot.data_provider.dataset import Dataset\n",
    "from fewshot.backbones import ConvNet\n",
    "\n",
    "from fewshot.algorithms.backbone_pretrain import build_one_layer_classifier, cross_entropy_train\n",
    "from fewshot.algorithms.fewshot_models import BaselineFewShotModel\n",
    "\n",
    "import numpy as np\n",
    "import tqdm\n",
    "import scipy.stats as st\n",
    "\n",
    "from IPython.display import clear_output"
   ]
  },
  {
   "cell_type": "markdown",
   "metadata": {},
   "source": [
    "### Init\n",
    "\n",
    "Set up all input data and params"
   ]
  },
  {
   "cell_type": "code",
   "execution_count": 2,
   "metadata": {},
   "outputs": [],
   "source": [
    "dataset_dir = \"../../../data/mini_imagenet/\"\n",
    "dataset = Dataset(dataset_dir=dataset_dir)"
   ]
  },
  {
   "cell_type": "code",
   "execution_count": 74,
   "metadata": {},
   "outputs": [],
   "source": [
    "# common\n",
    "seed = 11\n",
    "\n",
    "img_width = 84\n",
    "img_height = 84\n",
    "img_depth = 3\n",
    "\n",
    "# backbone training\n",
    "backbone_classes = 80\n",
    "backbone_training_batch_size = 64\n",
    "backbone_training_epochs = 30\n",
    "backbone_train_size = 0.9\n",
    "\n",
    "# fewshot training and testing\n",
    "n_way = 5\n",
    "k_shot = 5\n",
    "training_batch_size = 4\n",
    "training_batches_per_episode = 100\n",
    "query_samples_per_class = 16\n",
    "n_episodes = 50"
   ]
  },
  {
   "cell_type": "markdown",
   "metadata": {},
   "source": [
    "### Backbone\n",
    "Create backbone dataset (80 classes), split to train and validattion"
   ]
  },
  {
   "cell_type": "code",
   "execution_count": 11,
   "metadata": {},
   "outputs": [
    {
     "name": "stdout",
     "output_type": "stream",
     "text": [
      "Split by classes with train size = 80 (seed = 11)\n",
      "Train classes: 80\n",
      "Test classes: 20\n",
      "Train data: 48000 samples\n",
      "Test data:  12000 samples\n"
     ]
    }
   ],
   "source": [
    "backbone_dataset, fewshot_dataset = dataset.split_by_classes(train_size=backbone_classes,\n",
    "                                                             random_state=seed)"
   ]
  },
  {
   "cell_type": "code",
   "execution_count": 12,
   "metadata": {},
   "outputs": [
    {
     "name": "stdout",
     "output_type": "stream",
     "text": [
      "Split by objects with train size = 0.9 (seed = 11)\n",
      "Train data: 43200 samples\n",
      "Test data:  4800 samples\n"
     ]
    }
   ],
   "source": [
    "backbone_train_dataset, backbone_val_dataset = backbone_dataset.split_by_objects(train_size=backbone_train_size,\n",
    "                                                                                 random_state=seed)"
   ]
  },
  {
   "cell_type": "markdown",
   "metadata": {},
   "source": [
    "Create classifier"
   ]
  },
  {
   "cell_type": "code",
   "execution_count": 13,
   "metadata": {},
   "outputs": [],
   "source": [
    "backbone = ConvNet(input_size=(img_width, img_height, img_depth))\n",
    "backbone_classifier = build_one_layer_classifier(backbone,\n",
    "                                                 backbone_train_dataset.n_classes)"
   ]
  },
  {
   "cell_type": "markdown",
   "metadata": {},
   "source": [
    "Load weights if we have presaved"
   ]
  },
  {
   "cell_type": "code",
   "execution_count": 64,
   "metadata": {},
   "outputs": [],
   "source": [
    "#backbone_classifier.load_weights(\"../../../data/few-models/bb_clf_30.chk\")"
   ]
  },
  {
   "cell_type": "markdown",
   "metadata": {},
   "source": [
    "Train"
   ]
  },
  {
   "cell_type": "code",
   "execution_count": 69,
   "metadata": {},
   "outputs": [],
   "source": [
    "backbone.set_trainable(True)"
   ]
  },
  {
   "cell_type": "code",
   "execution_count": 75,
   "metadata": {},
   "outputs": [
    {
     "name": "stdout",
     "output_type": "stream",
     "text": [
      "75/75 [==============================] - 48s 645ms/step - loss: 4.2936 - acc: 0.3877\n",
      "675/675 [==============================] - 530s 785ms/step - loss: 0.2318 - acc: 0.9281 - val_loss: 4.2936 - val_acc: 0.3877\n"
     ]
    },
    {
     "data": {
      "text/plain": [
       "<tensorflow.python.keras.engine.training.Model at 0x7f3a8c805cf8>"
      ]
     },
     "execution_count": 75,
     "metadata": {},
     "output_type": "execute_result"
    }
   ],
   "source": [
    "cross_entropy_train(\n",
    "    backbone_classifier,\n",
    "    backbone_train_dataset.get_batch_generator(batch_size=backbone_training_batch_size,\n",
    "                                               target_size=(img_width, img_height),\n",
    "                                               shuffle=True),\n",
    "    validation_dataset=backbone_val_dataset.get_batch_generator(batch_size=backbone_training_batch_size,\n",
    "                                                                target_size=(img_width, img_height),\n",
    "                                                                shuffle=False),\n",
    "    n_epochs=backbone_training_epochs\n",
    ")"
   ]
  },
  {
   "cell_type": "markdown",
   "metadata": {},
   "source": [
    "Save weights if we want in future to continue to train backbone "
   ]
  },
  {
   "cell_type": "code",
   "execution_count": 80,
   "metadata": {},
   "outputs": [],
   "source": [
    "#backbone_classifier.save_weights(\"../../../data/few-models/bb_clf_30.chk\")"
   ]
  },
  {
   "cell_type": "markdown",
   "metadata": {},
   "source": [
    "### Few Shot\n",
    "Train fewshot model"
   ]
  },
  {
   "cell_type": "code",
   "execution_count": 77,
   "metadata": {},
   "outputs": [
    {
     "name": "stdout",
     "output_type": "stream",
     "text": [
      "Mean accuracy (by 50 episodes): 55.52%\n"
     ]
    }
   ],
   "source": [
    "accs = []\n",
    "for episode in tqdm.tqdm_notebook(range(n_episodes)):\n",
    "    fewshot_model = BaselineFewShotModel(backbone, n_way)\n",
    "    \n",
    "    # not very simple way to prepare eposide support and query sets\n",
    "    # FIXME: in future replace it with @bobbythehiver .few_shot_episode_generator() implementation\n",
    "    # and @schoooler tester version\n",
    "    episode_dataset, _ = fewshot_dataset.split_by_classes(train_size=n_way, random_state=episode)\n",
    "    \n",
    "    # subset support and query datasets\n",
    "    episode_support, episode_left = episode_dataset.split_by_objects(train_size=k_shot, random_state=episode)\n",
    "    episode_query, _ = episode_left.split_by_objects(train_size=query_samples_per_class, random_state=episode)\n",
    "    \n",
    "    \n",
    "    fewshot_model.fit(episode_support.get_batch_generator(batch_size=training_batch_size,\n",
    "                                                          target_size=(img_width, img_height),\n",
    "                                                          shuffle=True),\n",
    "                      n_epochs=training_batches_per_episode)\n",
    "    out = fewshot_model.predict(episode_query.get_batch_generator(batch_size=training_batch_size,\n",
    "                                                                  target_size=(img_width, img_height),\n",
    "                                                                  shuffle=False))\n",
    "    classes = np.array(episode_query.classes)\n",
    "    acc = np.mean(classes[np.argmax(out, axis=1)] == episode_query.dataframe[\"class\"].values)\n",
    "    \n",
    "    accs.append(acc)\n",
    "    clear_output()\n",
    "    \n",
    "    print(\"Mean accuracy (by {} episodes): {:.2f}%\".format(episode + 1, np.mean(accs) * 100))"
   ]
  },
  {
   "cell_type": "markdown",
   "metadata": {},
   "source": [
    "### Report"
   ]
  },
  {
   "cell_type": "markdown",
   "metadata": {},
   "source": [
    "Calc 95% confidence interval and report"
   ]
  },
  {
   "cell_type": "code",
   "execution_count": 78,
   "metadata": {},
   "outputs": [],
   "source": [
    "acc_int = st.t.interval(0.95, len(accs) - 1, loc=np.mean(accs), scale=st.sem(accs))"
   ]
  },
  {
   "cell_type": "code",
   "execution_count": 79,
   "metadata": {},
   "outputs": [
    {
     "name": "stdout",
     "output_type": "stream",
     "text": [
      "5-shot test metric: 55.52% +- 2.51%\n"
     ]
    }
   ],
   "source": [
    "print(\"5-shot test metric: {}% +- {}%\".format(round(np.mean(accs) * 100, 2),\n",
    "                                              round((np.mean(acc_int) - acc_int[0]) * 100, 2)))"
   ]
  }
 ],
 "metadata": {
  "kernelspec": {
   "display_name": "Python 3",
   "language": "python",
   "name": "python3"
  },
  "language_info": {
   "codemirror_mode": {
    "name": "ipython",
    "version": 3
   },
   "file_extension": ".py",
   "mimetype": "text/x-python",
   "name": "python",
   "nbconvert_exporter": "python",
   "pygments_lexer": "ipython3",
   "version": "3.5.4"
  }
 },
 "nbformat": 4,
 "nbformat_minor": 2
}
