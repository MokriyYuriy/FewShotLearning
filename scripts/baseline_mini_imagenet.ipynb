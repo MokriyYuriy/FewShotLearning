{
 "cells": [
  {
   "cell_type": "code",
   "execution_count": 1,
   "metadata": {},
   "outputs": [],
   "source": [
    "from fewshot.data_provider.dataset import Dataset\n",
    "from fewshot.backbones import ConvNet\n",
    "\n",
    "from fewshot.algorithms.backbone_pretrain import build_one_layer_classifier, cross_entropy_train\n",
    "from fewshot.algorithms.fewshot_models import BaselineFewShotModel\n",
    "\n",
    "import numpy as np\n",
    "import tqdm\n",
    "import scipy.stats as st\n",
    "\n",
    "from IPython.display import clear_output"
   ]
  },
  {
   "cell_type": "markdown",
   "metadata": {},
   "source": [
    "### Init\n",
    "\n",
    "Set up all input data and params"
   ]
  },
  {
   "cell_type": "code",
   "execution_count": 3,
   "metadata": {},
   "outputs": [],
   "source": [
    "# common\n",
    "seed = 11\n",
    "\n",
    "img_width = 84\n",
    "img_height = 84\n",
    "img_depth = 3\n",
    "\n",
    "# classes\n",
    "base_num_classes = 64\n",
    "val_num_classes = 16  # not used in baseline algo\n",
    "novel_num_classes = 20\n",
    "\n",
    "# backbone training\n",
    "backbone_training_batch_size = 32\n",
    "backbone_training_epochs = 10\n",
    "\n",
    "# fewshot training and testing\n",
    "n_way = 5\n",
    "k_shot = 5\n",
    "training_batch_size = 4\n",
    "training_batches_per_episode = 25\n",
    "query_samples_per_class = 16\n",
    "\n",
    "n_episodes = 50"
   ]
  },
  {
   "cell_type": "code",
   "execution_count": 4,
   "metadata": {},
   "outputs": [],
   "source": [
    "dataset_dir = \"../../../data/mini_imagenet/\"\n",
    "dataset = Dataset(dataset_dir=dataset_dir, csv_name=\"data_84x84.csv\", image_size=(img_width, img_height))"
   ]
  },
  {
   "cell_type": "markdown",
   "metadata": {},
   "source": [
    "### Backbone\n",
    "Create backbone dataset (80 classes), split to train and validattion"
   ]
  },
  {
   "cell_type": "code",
   "execution_count": 5,
   "metadata": {},
   "outputs": [
    {
     "name": "stdout",
     "output_type": "stream",
     "text": [
      "Split by classes with train size = 64 (seed = 11)\n",
      "Train classes: 64\n",
      "Test classes: 36\n",
      "Train data: 38400 samples\n",
      "Test data:  21600 samples\n"
     ]
    },
    {
     "name": "stderr",
     "output_type": "stream",
     "text": [
      "/mnt/disk/venv/dpy3/lib/python3.5/site-packages/sklearn/model_selection/_split.py:2179: FutureWarning: From version 0.21, test_size will always complement train_size unless both are specified.\n",
      "  FutureWarning)\n"
     ]
    }
   ],
   "source": [
    "backbone_dataset, val_fewshot_dataset = dataset.split_by_classes(train_size=base_num_classes,\n",
    "                                                                 random_state=seed)"
   ]
  },
  {
   "cell_type": "code",
   "execution_count": 6,
   "metadata": {},
   "outputs": [
    {
     "name": "stdout",
     "output_type": "stream",
     "text": [
      "Split by classes with train size = 16 (seed = 11)\n",
      "Train classes: 16\n",
      "Test classes: 20\n",
      "Train data: 9600 samples\n",
      "Test data:  12000 samples\n"
     ]
    }
   ],
   "source": [
    "val_dataset, fewshot_dataset = val_fewshot_dataset.split_by_classes(train_size=val_num_classes,\n",
    "                                                                    random_state=seed)"
   ]
  },
  {
   "cell_type": "markdown",
   "metadata": {},
   "source": [
    "Create classifier"
   ]
  },
  {
   "cell_type": "code",
   "execution_count": 7,
   "metadata": {},
   "outputs": [
    {
     "name": "stdout",
     "output_type": "stream",
     "text": [
      "WARNING:tensorflow:From /mnt/disk/venv/dpy3/lib/python3.5/site-packages/tensorflow/python/ops/resource_variable_ops.py:435: colocate_with (from tensorflow.python.framework.ops) is deprecated and will be removed in a future version.\n",
      "Instructions for updating:\n",
      "Colocations handled automatically by placer.\n"
     ]
    }
   ],
   "source": [
    "backbone = ConvNet(input_size=(img_width, img_height, img_depth))\n",
    "backbone_classifier = build_one_layer_classifier(backbone, backbone_dataset.n_classes)"
   ]
  },
  {
   "cell_type": "markdown",
   "metadata": {},
   "source": [
    "Load weights if we have presaved"
   ]
  },
  {
   "cell_type": "raw",
   "metadata": {},
   "source": [
    "#backbone_classifier.load_weights(\"../../../data/few-models/bb_clf_best.chk\")"
   ]
  },
  {
   "cell_type": "markdown",
   "metadata": {},
   "source": [
    "Train"
   ]
  },
  {
   "cell_type": "code",
   "execution_count": 8,
   "metadata": {},
   "outputs": [],
   "source": [
    "backbone.set_trainable(True)"
   ]
  },
  {
   "cell_type": "code",
   "execution_count": 9,
   "metadata": {},
   "outputs": [
    {
     "name": "stdout",
     "output_type": "stream",
     "text": [
      "Epoch 1/10\n",
      "1200/1200 [==============================] - 204s 170ms/step - loss: 3.0932 - acc: 0.2360\n",
      "Epoch 2/10\n",
      "1200/1200 [==============================] - 201s 168ms/step - loss: 2.3561 - acc: 0.3841\n",
      "Epoch 3/10\n",
      "1200/1200 [==============================] - 202s 168ms/step - loss: 2.0388 - acc: 0.4545\n",
      "Epoch 4/10\n",
      "1200/1200 [==============================] - 201s 167ms/step - loss: 1.8135 - acc: 0.5084\n",
      "Epoch 5/10\n",
      "1200/1200 [==============================] - 200s 167ms/step - loss: 1.6285 - acc: 0.5525\n",
      "Epoch 6/10\n",
      "1200/1200 [==============================] - 198s 165ms/step - loss: 1.4645 - acc: 0.5912\n",
      "Epoch 7/10\n",
      "1200/1200 [==============================] - 198s 165ms/step - loss: 1.3124 - acc: 0.6297\n",
      "Epoch 8/10\n",
      "1200/1200 [==============================] - 197s 165ms/step - loss: 1.1749 - acc: 0.6649\n",
      "Epoch 9/10\n",
      "1200/1200 [==============================] - 198s 165ms/step - loss: 1.0520 - acc: 0.6947\n",
      "Epoch 10/10\n",
      "1200/1200 [==============================] - 198s 165ms/step - loss: 0.9318 - acc: 0.7289\n"
     ]
    },
    {
     "data": {
      "text/plain": [
       "<tensorflow.python.keras.engine.training.Model at 0x7f2ced0c5a90>"
      ]
     },
     "execution_count": 9,
     "metadata": {},
     "output_type": "execute_result"
    }
   ],
   "source": [
    "cross_entropy_train(\n",
    "    backbone_classifier,\n",
    "    backbone_dataset.get_batch_generator(batch_size=backbone_training_batch_size, shuffle=True),\n",
    "    n_epochs=backbone_training_epochs\n",
    ")"
   ]
  },
  {
   "cell_type": "markdown",
   "metadata": {},
   "source": [
    "Save weights if we want in future to continue to train backbone "
   ]
  },
  {
   "cell_type": "raw",
   "metadata": {},
   "source": [
    "#backbone_classifier.save_weights(\"../../../data/few-models/bb_clf_best.chk\")"
   ]
  },
  {
   "cell_type": "markdown",
   "metadata": {},
   "source": [
    "### Few Shot\n",
    "Train fewshot model"
   ]
  },
  {
   "cell_type": "code",
   "execution_count": 10,
   "metadata": {},
   "outputs": [
    {
     "name": "stdout",
     "output_type": "stream",
     "text": [
      "Mean accuracy (by 50 episodes): 54.35%\n",
      "\n"
     ]
    }
   ],
   "source": [
    "accs = []\n",
    "for episode in tqdm.tqdm_notebook(range(n_episodes)):\n",
    "    fewshot_model = BaselineFewShotModel(backbone, n_way)\n",
    "    \n",
    "    # not very simple way to prepare eposide support and query sets\n",
    "    # FIXME: in future replace it with @bobbythehiver .few_shot_episode_generator() implementation\n",
    "    # and @schoooler tester version\n",
    "    episode_dataset, _ = fewshot_dataset.split_by_classes(train_size=n_way, random_state=episode)\n",
    "    \n",
    "    # subset support and query datasets\n",
    "    episode_support, episode_left = episode_dataset.split_by_objects(train_size=k_shot, random_state=episode)\n",
    "    episode_query, _ = episode_left.split_by_objects(train_size=query_samples_per_class, random_state=episode)\n",
    "    \n",
    "    \n",
    "    fewshot_model.fit(episode_support.get_batch_generator(batch_size=training_batch_size, shuffle=True),\n",
    "                      n_epochs=training_batches_per_episode)\n",
    "    \n",
    "    # calc accuracy\n",
    "    out = fewshot_model.predict(episode_query.get_batch_generator(batch_size=training_batch_size, shuffle=False))\n",
    "    classes = np.array(episode_query.classes)\n",
    "    acc = np.mean(classes[np.argmax(out, axis=1)] == episode_query.dataframe[\"class\"].values)\n",
    "    \n",
    "    accs.append(acc)\n",
    "    clear_output()\n",
    "    \n",
    "    print(\"Mean accuracy (by {} episodes): {:.2f}%\".format(episode + 1, np.mean(accs) * 100))"
   ]
  },
  {
   "cell_type": "markdown",
   "metadata": {},
   "source": [
    "### Report"
   ]
  },
  {
   "cell_type": "markdown",
   "metadata": {},
   "source": [
    "Calc 95% confidence interval and report"
   ]
  },
  {
   "cell_type": "code",
   "execution_count": 11,
   "metadata": {},
   "outputs": [],
   "source": [
    "acc_int = st.t.interval(0.95, len(accs) - 1, loc=np.mean(accs), scale=st.sem(accs))"
   ]
  },
  {
   "cell_type": "code",
   "execution_count": 12,
   "metadata": {},
   "outputs": [
    {
     "name": "stdout",
     "output_type": "stream",
     "text": [
      "5-shot test metric: 54.35% +- 2.6%\n"
     ]
    }
   ],
   "source": [
    "print(\"5-shot test metric: {}% +- {}%\".format(round(np.mean(accs) * 100, 2),\n",
    "                                              round((np.mean(acc_int) - acc_int[0]) * 100, 2)))"
   ]
  }
 ],
 "metadata": {
  "kernelspec": {
   "display_name": "Python 3",
   "language": "python",
   "name": "python3"
  },
  "language_info": {
   "codemirror_mode": {
    "name": "ipython",
    "version": 3
   },
   "file_extension": ".py",
   "mimetype": "text/x-python",
   "name": "python",
   "nbconvert_exporter": "python",
   "pygments_lexer": "ipython3",
   "version": "3.5.4"
  }
 },
 "nbformat": 4,
 "nbformat_minor": 2
}
